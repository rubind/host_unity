{
 "cells": [
  {
   "cell_type": "code",
   "execution_count": 12,
   "metadata": {},
   "outputs": [],
   "source": [
    "import os\n",
    "import pickle\n",
    "import sncosmo\n",
    "import numpy as np\n",
    "import pandas as pd\n",
    "import matplotlib.pyplot as plt\n",
    "from astropy.table import Table\n",
    "from sfdmap import SFDMap\n",
    "from collections import defaultdict\n",
    "from astropy.io import ascii"
   ]
  },
  {
   "cell_type": "code",
   "execution_count": 13,
   "metadata": {},
   "outputs": [],
   "source": [
    "def modify_error(lc, error_floor=0.):\n",
    "    \"\"\"Add an error floor of `error_floor` times the maximum flux of the band\n",
    "    to each observation\n",
    "    \"\"\"\n",
    "    data = sncosmo.photdata.photometric_data(lc).normalized(zp=25., zpsys='ab')\n",
    "    new_lc = {'time': data.time,\n",
    "              'band': data.band,\n",
    "              'flux': data.flux,\n",
    "              'fluxerr': data.fluxerr,\n",
    "              'zp': data.zp,\n",
    "              'zpsys': data.zpsys}\n",
    "    for band in set(data.band):\n",
    "        band_cut = data.band==band\n",
    "        max_flux_in_band = np.max(data.flux[band_cut])\n",
    "        new_lc['fluxerr'][band_cut] = np.sqrt((error_floor*max_flux_in_band)**2+data.fluxerr[band_cut]**2)\n",
    "    new_lc = Table(new_lc, meta=lc.meta)   \n",
    "    return new_lc\n",
    "\n",
    "def phase_and_wave_mask(data, model, t0, z, phase_range):\n",
    "    \"\"\"Return a mask for the data based on an allowed rest-frame phase and/or\n",
    "    wavelength range (given some t0 and z).\"\"\"\n",
    "    data_phase = (data['time'] - t0) / (1.0 + z)\n",
    "    phase_mask = ((data_phase > phase_range[0]) &\n",
    "                      (data_phase < phase_range[1]))\n",
    "\n",
    "    wave_mask = np.array([model.bandoverlap(b) for b in data['band']])\n",
    "    return phase_mask & wave_mask"
   ]
  },
  {
   "cell_type": "code",
   "execution_count": 14,
   "metadata": {},
   "outputs": [],
   "source": [
    "result_dir = 'results_mw_reddening_mcmc/'"
   ]
  },
  {
   "cell_type": "markdown",
   "metadata": {},
   "source": [
    "# JLA fits"
   ]
  },
  {
   "cell_type": "code",
   "execution_count": 15,
   "metadata": {},
   "outputs": [],
   "source": [
    "data_dir = '/home/samdixon/jla_light_curves/'"
   ]
  },
  {
   "cell_type": "code",
   "execution_count": 59,
   "metadata": {},
   "outputs": [],
   "source": [
    "def jla_chisq(result_path):\n",
    "    res = pickle.load(open(result_path, 'rb'))\n",
    "    err_floor = int(result_path.split('/')[-2].split('_')[-1])/100\n",
    "    model_name = result_path.split('/')[-2].split('_')[-2]\n",
    "    model = sncosmo.Model(source=model_name,\n",
    "                          effects=[sncosmo.CCM89Dust()],\n",
    "                          effect_names=['mw'],\n",
    "                          effect_frames=['obs'])\n",
    "    model.set(**dict(zip(res['param_names'], res['parameters'])))\n",
    "    name = file.split('.')[0]\n",
    "    try:\n",
    "        _ = int(name)\n",
    "        name = 'lc-SDSS{}.list'.format(name)\n",
    "    except:\n",
    "        name = 'lc-{}.list'.format(name)\n",
    "    lc_path = os.path.join('/home/samdixon/jla_light_curves/', name)\n",
    "    lc = sncosmo.read_lc(lc_path, format='salt2', expand_bands=True, read_covmat=True)\n",
    "    lc = modify_error(lc, err_floor)\n",
    "    z, t0 = model.parameters[:2]\n",
    "    phase_range = (-15, 45) if model_name=='salt2' else (-10, 40)\n",
    "    mask = phase_and_wave_mask(lc, model, t0, z, phase_range)\n",
    "    lc = lc[mask]\n",
    "    model_flux = model.bandflux(lc['band'], lc['time'], lc['zp'], lc['zpsys'])\n",
    "    if res['ndof'] <= 1:\n",
    "        return np.nan\n",
    "    return np.sum((model_flux-lc['flux'])**2/lc['fluxerr']**2)/(res['ndof'])"
   ]
  },
  {
   "cell_type": "code",
   "execution_count": 60,
   "metadata": {},
   "outputs": [
    {
     "data": {
      "text/plain": [
       "(array([  2.,   5.,  81., 302., 199.,  81.,  32.,  11.,   6.,   4.]),\n",
       " array([-1.02715807, -0.75174816, -0.47633825, -0.20092834,  0.07448157,\n",
       "         0.34989149,  0.6253014 ,  0.90071131,  1.17612122,  1.45153113,\n",
       "         1.72694105]),\n",
       " <a list of 10 Patch objects>)"
      ]
     },
     "execution_count": 60,
     "metadata": {},
     "output_type": "execute_result"
    },
    {
     "data": {
      "image/png": "[encoded data removed]",
      "text/plain": [
       "<Figure size 432x288 with 1 Axes>"
      ]
     },
     "metadata": {
      "needs_background": "light"
     },
     "output_type": "display_data"
    }
   ],
   "source": [
    "model_name = 'snemo2'\n",
    "err = 2\n",
    "survey = 'jla'\n",
    "subdir = os.path.join(result_dir, '{}_{}_{:02d}'.format(survey, model_name, err))\n",
    "\n",
    "jla_chisqs = []\n",
    "for file in os.listdir(subdir):\n",
    "    result_path = os.path.join(subdir, file)\n",
    "    jla_chisqs.append(jla_chisq(result_path))\n",
    "jla_chisqs = np.array(jla_chisqs)\n",
    "plt.hist(np.log10(jla_chisqs[np.isfinite(jla_chisqs)]))"
   ]
  },
  {
   "cell_type": "markdown",
   "metadata": {},
   "source": [
    "# CSP"
   ]
  },
  {
   "cell_type": "code",
   "execution_count": 61,
   "metadata": {},
   "outputs": [],
   "source": [
    "data_dir = '/home/samdixon/CSP_Photometry_DR3/'"
   ]
  },
  {
   "cell_type": "code",
   "execution_count": 65,
   "metadata": {},
   "outputs": [],
   "source": [
    "CSP_FILT_MAP = {'u': 'cspu',\n",
    "                'g': 'cspg',\n",
    "                'r': 'cspr',\n",
    "                'i': 'cspi',\n",
    "                'B': 'cspb',\n",
    "                'V0': 'cspv3014',\n",
    "                'V1': 'cspv3009',\n",
    "                'V': 'cspv9844',\n",
    "                'Y': 'cspys',\n",
    "                'H': 'csphs',\n",
    "                'J': 'cspjs',\n",
    "                'Jrc2': 'cspjs',\n",
    "                'Ydw': 'cspyd',\n",
    "                'Jdw': 'cspjd',\n",
    "                'Hdw': 'csphd'}\n",
    "MAGSYS = sncosmo.get_magsystem('csp')\n",
    "\n",
    "MWDUSTMAP = SFDMap('/home/samdixon/sfddata/')\n",
    "\n",
    "def parse_csp_lc(path):\n",
    "    meta = {}\n",
    "    lc = defaultdict(list)\n",
    "    current_filt = None\n",
    "    with open(path) as f:\n",
    "        for l in f.readlines():\n",
    "            if l.split()[0][:2]=='SN':\n",
    "                name, z, ra, dec = l.split()\n",
    "                meta['name'] = name.strip()\n",
    "                meta['z'] = float(z.strip())\n",
    "                meta['mwebv'] = MWDUSTMAP.ebv(float(ra), float(dec))\n",
    "                continue\n",
    "            if l.split()[0] == 'filter':\n",
    "                current_filt = CSP_FILT_MAP[l.split()[-1]]\n",
    "            else:\n",
    "                time, mag, mag_err = [float(x.strip()) for x in l.split()]\n",
    "                flux = MAGSYS.band_mag_to_flux(mag, current_filt)\n",
    "                flux_err = mag_err*flux*np.log(10)/2.5\n",
    "                lc['time'].append(53000 + time)\n",
    "                lc['flux'].append(flux)\n",
    "                lc['flux_err'].append(flux_err)\n",
    "                lc['zp'].append(2.5*np.log10(MAGSYS.zpbandflux(current_filt)))\n",
    "                lc['zpsys'].append('csp')\n",
    "                lc['band'].append(current_filt)\n",
    "    return Table(lc, meta=meta)\n",
    "\n",
    "def csp_chisq(result_path):\n",
    "    res = pickle.load(open(result_path, 'rb'))\n",
    "    err_floor = int(result_path.split('/')[-2].split('_')[-1])/100\n",
    "    model_name = result_path.split('/')[-2].split('_')[-2]\n",
    "    model = sncosmo.Model(source=model_name,\n",
    "                          effects=[sncosmo.CCM89Dust()],\n",
    "                          effect_names=['mw'],\n",
    "                          effect_frames=['obs'])\n",
    "    model.set(**dict(zip(res['param_names'], res['parameters'])))\n",
    "    name = '{}_snpy.txt'.format(file.split('.')[0])\n",
    "    lc_path = os.path.join(data_dir, name)\n",
    "    lc = parse_csp_lc(lc_path)\n",
    "    lc = modify_error(lc, err_floor)\n",
    "    z, t0 = model.parameters[:2]\n",
    "    phase_range = (-15, 45) if model_name=='salt2' else (-10, 40)\n",
    "    mask = phase_and_wave_mask(lc, model, t0, z, phase_range)\n",
    "    lc = lc[mask]\n",
    "    model_flux = model.bandflux(lc['band'], lc['time'], lc['zp'], lc['zpsys'])\n",
    "    if res['ndof'] <= 1:\n",
    "        return np.nan\n",
    "    return np.sum((model_flux-lc['flux'])**2/lc['fluxerr']**2)/(res['ndof'])"
   ]
  },
  {
   "cell_type": "code",
   "execution_count": 66,
   "metadata": {},
   "outputs": [
    {
     "data": {
      "text/plain": [
       "(array([11., 16., 21., 25., 21., 10., 14.,  8.,  4.,  3.]),\n",
       " array([-0.41823905, -0.17181261,  0.07461382,  0.32104026,  0.5674667 ,\n",
       "         0.81389313,  1.06031957,  1.306746  ,  1.55317244,  1.79959887,\n",
       "         2.04602531]),\n",
       " <a list of 10 Patch objects>)"
      ]
     },
     "execution_count": 66,
     "metadata": {},
     "output_type": "execute_result"
    },
    {
     "data": {
      "image/png": "[encoded data removed]",
      "text/plain": [
       "<Figure size 432x288 with 1 Axes>"
      ]
     },
     "metadata": {
      "needs_background": "light"
     },
     "output_type": "display_data"
    }
   ],
   "source": [
    "model_name = 'snemo2'\n",
    "err = 2\n",
    "survey = 'csp'\n",
    "subdir = os.path.join(result_dir, '{}_{}_{:02d}'.format(survey, model_name, err))\n",
    "\n",
    "csp_chisqs = []\n",
    "for file in os.listdir(subdir):\n",
    "    result_path = os.path.join(subdir, file)\n",
    "    csp_chisqs.append(csp_chisq(result_path))\n",
    "csp_chisqs = np.array(csp_chisqs)\n",
    "plt.hist(np.log10(csp_chisqs[np.isfinite(csp_chisqs)]))"
   ]
  },
  {
   "cell_type": "markdown",
   "metadata": {},
   "source": [
    "# Foundation"
   ]
  },
  {
   "cell_type": "code",
   "execution_count": 68,
   "metadata": {},
   "outputs": [],
   "source": [
    "DATA = pd.read_csv('/home/samdixon/foundation_photometry.txt', delimiter=', ', engine='python')\n",
    "META = ascii.read('/home/samdixon/foundation_lc_params.tex', format='latex').to_pandas()\n",
    "META = META.set_index('SN')\n",
    "HOSTDATA = pd.read_csv('/home/samdixon/host_unity/fitting/gupta_host.txt', delim_whitespace=True)\n",
    "HOSTDATA = HOSTDATA.set_index('name')\n",
    "\n",
    "SCRIPT_DIR = 'scripts'\n",
    "if not os.path.isdir(SCRIPT_DIR):\n",
    "    os.makedirs(SCRIPT_DIR)\n",
    "    \n",
    "TEMPLATE = \"\"\"#!/bin/bash\n",
    "#$ -N mcmc_ps_{}_{}\n",
    "#$ -cwd\n",
    "\n",
    "/home/samdixon/miniconda3/bin/python /home/samdixon/host_unity/mcmc_lc_foundation_fit.py {} {}\"\"\"\n",
    "\n",
    "TEMPLATE_ERR = \"\"\"#!/bin/bash\n",
    "#$ -N mcmc_ps_{:02d}_{}_{}\n",
    "#$ -cwd\n",
    "\n",
    "/home/samdixon/miniconda3/bin/python /home/samdixon/host_unity/mcmc_lc_foundation_fit.py {} {} {}\"\"\"\n",
    "\n",
    "PS_FILTS = ascii.read('/home/samdixon/PSfilters.txt')\n",
    "\n",
    "def read_and_register(name):\n",
    "    name = name.lower()\n",
    "    wave = PS_FILTS['Wave']*10\n",
    "    trans = PS_FILTS[name]\n",
    "    band = sncosmo.Bandpass(wave=wave, trans=trans, name=name)\n",
    "    sncosmo.register(band, force=True)\n",
    "\n",
    "for filt in DATA['Filter'].unique():\n",
    "        read_and_register(filt)\n",
    "    \n",
    "def get_foundation_lc(sn_name):\n",
    "    sn_data = DATA[DATA['SN'] == sn_name]\n",
    "    meta_data = META.loc[sn_name]\n",
    "    host = HOSTDATA[HOSTDATA.index.str.contains(sn_name)]\n",
    "    mwebv = host['MW_EBV'][0]\n",
    "    meta = {'name': sn_name,\n",
    "            'z': float(meta_data['z_helio'].split()[0]),\n",
    "            't0': float(meta_data['Peak_MJD'].split()[0]),\n",
    "            'mwebv': mwebv}\n",
    "    lc = {'time': sn_data['MJD'],\n",
    "          'band': sn_data['Filter'],\n",
    "          'flux': sn_data['Flux'],\n",
    "          'flux_err': sn_data['Flux_Uncertainty'],\n",
    "          'zp': [27.5 for x in range(len(sn_data))],\n",
    "          'zpsys': ['ab' for x in range(len(sn_data))]}\n",
    "    return Table(lc, meta=meta)\n",
    "\n",
    "def ps_chisq(result_path):\n",
    "    res = pickle.load(open(result_path, 'rb'))\n",
    "    err_floor = int(result_path.split('/')[-2].split('_')[-1])/100\n",
    "    model_name = result_path.split('/')[-2].split('_')[-2]\n",
    "    model = sncosmo.Model(source=model_name,\n",
    "                          effects=[sncosmo.CCM89Dust()],\n",
    "                          effect_names=['mw'],\n",
    "                          effect_frames=['obs'])\n",
    "    model.set(**dict(zip(res['param_names'], res['parameters'])))\n",
    "    \n",
    "    name = file.split('.')[0]\n",
    "    lc = get_foundation_lc(name)\n",
    "    lc = modify_error(lc, err_floor)\n",
    "    \n",
    "    z, t0 = model.parameters[:2]\n",
    "    phase_range = (-15, 45) if model_name=='salt2' else (-10, 40)\n",
    "    mask = phase_and_wave_mask(lc, model, t0, z, phase_range)\n",
    "    lc = lc[mask]\n",
    "    model_flux = model.bandflux(lc['band'], lc['time'], lc['zp'], lc['zpsys'])\n",
    "    if res['ndof'] <= 1:\n",
    "        return np.nan\n",
    "    return np.sum((model_flux-lc['flux'])**2/lc['fluxerr']**2)/(res['ndof'])"
   ]
  },
  {
   "cell_type": "code",
   "execution_count": 70,
   "metadata": {},
   "outputs": [
    {
     "data": {
      "text/plain": [
       "(array([ 1., 10.,  9., 10.,  6.,  1.,  3.,  2.,  0.,  2.]),\n",
       " array([-0.20895512, -0.09057636,  0.0278024 ,  0.14618116,  0.26455992,\n",
       "         0.38293868,  0.50131743,  0.61969619,  0.73807495,  0.85645371,\n",
       "         0.97483247]),\n",
       " <a list of 10 Patch objects>)"
      ]
     },
     "execution_count": 70,
     "metadata": {},
     "output_type": "execute_result"
    },
    {
     "data": {
      "image/png": "[encoded data removed]",
      "text/plain": [
       "<Figure size 432x288 with 1 Axes>"
      ]
     },
     "metadata": {
      "needs_background": "light"
     },
     "output_type": "display_data"
    }
   ],
   "source": [
    "model_name = 'snemo7'\n",
    "err = 2\n",
    "survey = 'ps'\n",
    "subdir = os.path.join(result_dir, '{}_{}_{:02d}'.format(survey, model_name, err))\n",
    "\n",
    "ps_chisqs = []\n",
    "for file in os.listdir(subdir):\n",
    "    result_path = os.path.join(subdir, file)\n",
    "    ps_chisqs.append(ps_chisq(result_path))\n",
    "ps_chisqs = np.array(ps_chisqs)\n",
    "plt.hist(np.log10(ps_chisqs[np.isfinite(ps_chisqs)]))"
   ]
  },
  {
   "cell_type": "markdown",
   "metadata": {},
   "source": [
    "# Combined"
   ]
  },
  {
   "cell_type": "code",
   "execution_count": 74,
   "metadata": {},
   "outputs": [
    {
     "data": {
      "image/png": "[encoded data removed]",
      "text/plain": [
       "<Figure size 864x864 with 6 Axes>"
      ]
     },
     "metadata": {
      "needs_background": "light"
     },
     "output_type": "display_data"
    }
   ],
   "source": [
    "plt.figure(figsize=(12, 12))\n",
    "\n",
    "for err in range(3):\n",
    "    model_name = 'snemo2'\n",
    "    plt.subplot(3, 2, 2*err+1)\n",
    "    if err==0:\n",
    "        plt.title('SNEMO 2')\n",
    "    chisqs = []\n",
    "    survey = 'jla'\n",
    "    subdir = os.path.join(result_dir, '{}_{}_{:02d}'.format(survey, model_name, err))\n",
    "    for file in os.listdir(subdir):\n",
    "        result_path = os.path.join(subdir, file)\n",
    "        chisqs.append(jla_chisq(result_path))\n",
    "    \n",
    "    survey = 'csp'\n",
    "    subdir = os.path.join(result_dir, '{}_{}_{:02d}'.format(survey, model_name, err))\n",
    "    for file in os.listdir(subdir):\n",
    "        result_path = os.path.join(subdir, file)\n",
    "        chisqs.append(csp_chisq(result_path))\n",
    "    \n",
    "    survey = 'ps'\n",
    "    subdir = os.path.join(result_dir, '{}_{}_{:02d}'.format(survey, model_name, err))\n",
    "    for file in os.listdir(subdir):\n",
    "        result_path = os.path.join(subdir, file)\n",
    "        chisqs.append(ps_chisq(result_path))\n",
    "    chisqs = np.array(chisqs)\n",
    "    plt.hist(np.log10(chisqs[np.isfinite(chisqs)]),\n",
    "             range=(-1, 3))\n",
    "    plt.ylabel('{} % error model'.format(err))\n",
    "    if err==2:\n",
    "        plt.xlabel('$\\log_{10}(\\chi^2/dof)$')\n",
    "        \n",
    "    model_name = 'snemo7'\n",
    "    plt.subplot(3, 2, 2*err+2)\n",
    "    if err==0:\n",
    "        plt.title('SNEMO 7')\n",
    "    chisqs = []\n",
    "    survey = 'jla'\n",
    "    subdir = os.path.join(result_dir, '{}_{}_{:02d}'.format(survey, model_name, err))\n",
    "    for file in os.listdir(subdir):\n",
    "        result_path = os.path.join(subdir, file)\n",
    "        chisqs.append(jla_chisq(result_path))\n",
    "    \n",
    "    survey = 'csp'\n",
    "    subdir = os.path.join(result_dir, '{}_{}_{:02d}'.format(survey, model_name, err))\n",
    "    for file in os.listdir(subdir):\n",
    "        result_path = os.path.join(subdir, file)\n",
    "        chisqs.append(csp_chisq(result_path))\n",
    "    \n",
    "    survey = 'ps'\n",
    "    subdir = os.path.join(result_dir, '{}_{}_{:02d}'.format(survey, model_name, err))\n",
    "    for file in os.listdir(subdir):\n",
    "        result_path = os.path.join(subdir, file)\n",
    "        chisqs.append(ps_chisq(result_path))\n",
    "    chisqs = np.array(chisqs)\n",
    "    plt.hist(np.log10(chisqs[np.isfinite(chisqs)]),\n",
    "             range=(-1, 3))\n",
    "    plt.ylabel('{} % error model'.format(err))\n",
    "    if err==2:\n",
    "        plt.xlabel('$\\log_{10}(\\chi^2/dof)$')"
   ]
  },
  {
   "cell_type": "code",
   "execution_count": null,
   "metadata": {},
   "outputs": [],
   "source": []
  }
 ],
 "metadata": {
  "kernelspec": {
   "display_name": "Python 3",
   "language": "python",
   "name": "python3"
  },
  "language_info": {
   "codemirror_mode": {
    "name": "ipython",
    "version": 3
   },
   "file_extension": ".py",
   "mimetype": "text/x-python",
   "name": "python",
   "nbconvert_exporter": "python",
   "pygments_lexer": "ipython3",
   "version": "3.7.3"
  }
 },
 "nbformat": 4,
 "nbformat_minor": 2
}
